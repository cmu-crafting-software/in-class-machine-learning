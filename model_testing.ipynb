{
  "cells": [
    {
      "cell_type": "markdown",
      "metadata": {
        "id": "2mvRPstlTZe-"
      },
      "source": [
        "## Activity 1: Analyze Titanic Test Dataset\n",
        "This dataset contains detailed information on the passengers aboard the Titanic. We can start be exploring the test dataset"
      ]
    },
    {
      "cell_type": "code",
      "execution_count": null,
      "metadata": {
        "id": "VmHtulEwTZe_"
      },
      "outputs": [],
      "source": [
        "import pandas as pd\n",
        "import numpy as np\n",
        "import matplotlib.pyplot as plt\n",
        "\n",
        "%matplotlib inline\n",
        "\n",
        "test_df = pd.read_csv('titanic_data/test.csv')"
      ]
    },
    {
      "cell_type": "code",
      "execution_count": null,
      "metadata": {
        "id": "WtXytu11TZe_",
        "outputId": "0eada24e-1b0d-4fe8-e678-bb45adae6a10"
      },
      "outputs": [
        {
          "data": {
            "text/html": [
              "<div>\n",
              "<style scoped>\n",
              "    .dataframe tbody tr th:only-of-type {\n",
              "        vertical-align: middle;\n",
              "    }\n",
              "\n",
              "    .dataframe tbody tr th {\n",
              "        vertical-align: top;\n",
              "    }\n",
              "\n",
              "    .dataframe thead th {\n",
              "        text-align: right;\n",
              "    }\n",
              "</style>\n",
              "<table border=\"1\" class=\"dataframe\">\n",
              "  <thead>\n",
              "    <tr style=\"text-align: right;\">\n",
              "      <th></th>\n",
              "      <th>index</th>\n",
              "      <th>Pclass</th>\n",
              "      <th>Age</th>\n",
              "      <th>SibSp</th>\n",
              "      <th>Parch</th>\n",
              "      <th>Fare</th>\n",
              "      <th>Sex_female</th>\n",
              "      <th>Sex_male</th>\n",
              "      <th>Survived</th>\n",
              "    </tr>\n",
              "  </thead>\n",
              "  <tbody>\n",
              "    <tr>\n",
              "      <th>0</th>\n",
              "      <td>709</td>\n",
              "      <td>3</td>\n",
              "      <td>25.0</td>\n",
              "      <td>1</td>\n",
              "      <td>1</td>\n",
              "      <td>15.2458</td>\n",
              "      <td>0</td>\n",
              "      <td>1</td>\n",
              "      <td>1</td>\n",
              "    </tr>\n",
              "    <tr>\n",
              "      <th>1</th>\n",
              "      <td>439</td>\n",
              "      <td>2</td>\n",
              "      <td>31.0</td>\n",
              "      <td>0</td>\n",
              "      <td>0</td>\n",
              "      <td>10.5000</td>\n",
              "      <td>0</td>\n",
              "      <td>1</td>\n",
              "      <td>0</td>\n",
              "    </tr>\n",
              "    <tr>\n",
              "      <th>2</th>\n",
              "      <td>840</td>\n",
              "      <td>3</td>\n",
              "      <td>20.0</td>\n",
              "      <td>0</td>\n",
              "      <td>0</td>\n",
              "      <td>7.9250</td>\n",
              "      <td>0</td>\n",
              "      <td>1</td>\n",
              "      <td>0</td>\n",
              "    </tr>\n",
              "    <tr>\n",
              "      <th>3</th>\n",
              "      <td>720</td>\n",
              "      <td>2</td>\n",
              "      <td>6.0</td>\n",
              "      <td>0</td>\n",
              "      <td>1</td>\n",
              "      <td>33.0000</td>\n",
              "      <td>1</td>\n",
              "      <td>0</td>\n",
              "      <td>1</td>\n",
              "    </tr>\n",
              "    <tr>\n",
              "      <th>4</th>\n",
              "      <td>39</td>\n",
              "      <td>3</td>\n",
              "      <td>14.0</td>\n",
              "      <td>1</td>\n",
              "      <td>0</td>\n",
              "      <td>11.2417</td>\n",
              "      <td>1</td>\n",
              "      <td>0</td>\n",
              "      <td>1</td>\n",
              "    </tr>\n",
              "  </tbody>\n",
              "</table>\n",
              "</div>"
            ],
            "text/plain": [
              "   index  Pclass   Age  SibSp  Parch     Fare  Sex_female  Sex_male  Survived\n",
              "0    709       3  25.0      1      1  15.2458           0         1         1\n",
              "1    439       2  31.0      0      0  10.5000           0         1         0\n",
              "2    840       3  20.0      0      0   7.9250           0         1         0\n",
              "3    720       2   6.0      0      1  33.0000           1         0         1\n",
              "4     39       3  14.0      1      0  11.2417           1         0         1"
            ]
          },
          "execution_count": 2,
          "metadata": {},
          "output_type": "execute_result"
        }
      ],
      "source": [
        "test_df.head()"
      ]
    },
    {
      "cell_type": "code",
      "execution_count": null,
      "metadata": {
        "id": "EczWwB_sTZfA",
        "outputId": "e7b629ee-61fb-49c7-fd91-7ca58d06f434"
      },
      "outputs": [
        {
          "data": {
            "text/html": [
              "<div>\n",
              "<style scoped>\n",
              "    .dataframe tbody tr th:only-of-type {\n",
              "        vertical-align: middle;\n",
              "    }\n",
              "\n",
              "    .dataframe tbody tr th {\n",
              "        vertical-align: top;\n",
              "    }\n",
              "\n",
              "    .dataframe thead th {\n",
              "        text-align: right;\n",
              "    }\n",
              "</style>\n",
              "<table border=\"1\" class=\"dataframe\">\n",
              "  <thead>\n",
              "    <tr style=\"text-align: right;\">\n",
              "      <th></th>\n",
              "      <th>index</th>\n",
              "      <th>Pclass</th>\n",
              "      <th>Age</th>\n",
              "      <th>SibSp</th>\n",
              "      <th>Parch</th>\n",
              "      <th>Fare</th>\n",
              "      <th>Sex_female</th>\n",
              "      <th>Sex_male</th>\n",
              "      <th>Survived</th>\n",
              "    </tr>\n",
              "  </thead>\n",
              "  <tbody>\n",
              "    <tr>\n",
              "      <th>count</th>\n",
              "      <td>179.000000</td>\n",
              "      <td>179.000000</td>\n",
              "      <td>179.000000</td>\n",
              "      <td>179.000000</td>\n",
              "      <td>179.000000</td>\n",
              "      <td>179.000000</td>\n",
              "      <td>179.000000</td>\n",
              "      <td>179.000000</td>\n",
              "      <td>179.000000</td>\n",
              "    </tr>\n",
              "    <tr>\n",
              "      <th>mean</th>\n",
              "      <td>436.111732</td>\n",
              "      <td>2.223464</td>\n",
              "      <td>29.890112</td>\n",
              "      <td>0.402235</td>\n",
              "      <td>0.391061</td>\n",
              "      <td>30.684473</td>\n",
              "      <td>0.385475</td>\n",
              "      <td>0.614525</td>\n",
              "      <td>0.413408</td>\n",
              "    </tr>\n",
              "    <tr>\n",
              "      <th>std</th>\n",
              "      <td>260.349331</td>\n",
              "      <td>0.877501</td>\n",
              "      <td>13.396918</td>\n",
              "      <td>0.730703</td>\n",
              "      <td>0.863185</td>\n",
              "      <td>39.447725</td>\n",
              "      <td>0.488073</td>\n",
              "      <td>0.488073</td>\n",
              "      <td>0.493826</td>\n",
              "    </tr>\n",
              "    <tr>\n",
              "      <th>min</th>\n",
              "      <td>5.000000</td>\n",
              "      <td>1.000000</td>\n",
              "      <td>0.830000</td>\n",
              "      <td>0.000000</td>\n",
              "      <td>0.000000</td>\n",
              "      <td>0.000000</td>\n",
              "      <td>0.000000</td>\n",
              "      <td>0.000000</td>\n",
              "      <td>0.000000</td>\n",
              "    </tr>\n",
              "    <tr>\n",
              "      <th>25%</th>\n",
              "      <td>216.500000</td>\n",
              "      <td>1.000000</td>\n",
              "      <td>21.500000</td>\n",
              "      <td>0.000000</td>\n",
              "      <td>0.000000</td>\n",
              "      <td>7.895800</td>\n",
              "      <td>0.000000</td>\n",
              "      <td>0.000000</td>\n",
              "      <td>0.000000</td>\n",
              "    </tr>\n",
              "    <tr>\n",
              "      <th>50%</th>\n",
              "      <td>422.000000</td>\n",
              "      <td>3.000000</td>\n",
              "      <td>27.000000</td>\n",
              "      <td>0.000000</td>\n",
              "      <td>0.000000</td>\n",
              "      <td>14.500000</td>\n",
              "      <td>0.000000</td>\n",
              "      <td>1.000000</td>\n",
              "      <td>0.000000</td>\n",
              "    </tr>\n",
              "    <tr>\n",
              "      <th>75%</th>\n",
              "      <td>655.000000</td>\n",
              "      <td>3.000000</td>\n",
              "      <td>37.000000</td>\n",
              "      <td>1.000000</td>\n",
              "      <td>0.000000</td>\n",
              "      <td>32.410400</td>\n",
              "      <td>1.000000</td>\n",
              "      <td>1.000000</td>\n",
              "      <td>1.000000</td>\n",
              "    </tr>\n",
              "    <tr>\n",
              "      <th>max</th>\n",
              "      <td>889.000000</td>\n",
              "      <td>3.000000</td>\n",
              "      <td>71.000000</td>\n",
              "      <td>4.000000</td>\n",
              "      <td>5.000000</td>\n",
              "      <td>262.375000</td>\n",
              "      <td>1.000000</td>\n",
              "      <td>1.000000</td>\n",
              "      <td>1.000000</td>\n",
              "    </tr>\n",
              "  </tbody>\n",
              "</table>\n",
              "</div>"
            ],
            "text/plain": [
              "            index      Pclass         Age       SibSp       Parch        Fare  \\\n",
              "count  179.000000  179.000000  179.000000  179.000000  179.000000  179.000000   \n",
              "mean   436.111732    2.223464   29.890112    0.402235    0.391061   30.684473   \n",
              "std    260.349331    0.877501   13.396918    0.730703    0.863185   39.447725   \n",
              "min      5.000000    1.000000    0.830000    0.000000    0.000000    0.000000   \n",
              "25%    216.500000    1.000000   21.500000    0.000000    0.000000    7.895800   \n",
              "50%    422.000000    3.000000   27.000000    0.000000    0.000000   14.500000   \n",
              "75%    655.000000    3.000000   37.000000    1.000000    0.000000   32.410400   \n",
              "max    889.000000    3.000000   71.000000    4.000000    5.000000  262.375000   \n",
              "\n",
              "       Sex_female    Sex_male    Survived  \n",
              "count  179.000000  179.000000  179.000000  \n",
              "mean     0.385475    0.614525    0.413408  \n",
              "std      0.488073    0.488073    0.493826  \n",
              "min      0.000000    0.000000    0.000000  \n",
              "25%      0.000000    0.000000    0.000000  \n",
              "50%      0.000000    1.000000    0.000000  \n",
              "75%      1.000000    1.000000    1.000000  \n",
              "max      1.000000    1.000000    1.000000  "
            ]
          },
          "execution_count": 3,
          "metadata": {},
          "output_type": "execute_result"
        }
      ],
      "source": [
        "test_df.describe()"
      ]
    },
    {
      "cell_type": "markdown",
      "metadata": {
        "id": "O-xAZiDuTZfA"
      },
      "source": [
        "Here's one way to display the distribution of the data, grouping based on survival."
      ]
    },
    {
      "cell_type": "code",
      "execution_count": null,
      "metadata": {
        "id": "4Cb0ExdQTZfA",
        "outputId": "9ea20c9f-c87f-41a2-87b7-7c8515d05b7a"
      },
      "outputs": [
        {
          "data": {
            "text/plain": [
              "<AxesSubplot:xlabel='Survived'>"
            ]
          },
          "execution_count": 4,
          "metadata": {},
          "output_type": "execute_result"
        },
        {
          "data": {
            "image/png": "[encoded data removed]",
            "text/plain": [
              "<Figure size 432x288 with 1 Axes>"
            ]
          },
          "metadata": {
            "needs_background": "light"
          },
          "output_type": "display_data"
        }
      ],
      "source": [
        "test_df.groupby(['Survived']).count()['index'].plot(kind='bar')"
      ]
    },
    {
      "cell_type": "markdown",
      "metadata": {
        "id": "Fj4nCLb7TZfA"
      },
      "source": [
        "Choose another feature to plot the distribution of and plot it here"
      ]
    },
    {
      "cell_type": "code",
      "execution_count": null,
      "metadata": {
        "id": "km8Kal5sTZfA"
      },
      "outputs": [],
      "source": [
        "# YOUR CODE HERE"
      ]
    },
    {
      "cell_type": "markdown",
      "metadata": {
        "id": "-DHTi_GTTZfA"
      },
      "source": [
        "## Activity 2: Import and Analyze Models\n",
        "We pre-trained two models based on the Titanic training dataset. Let's import these models and review their accuracy. Note that the difference between the models is one uses sex as a feature and one does not."
      ]
    },
    {
      "cell_type": "code",
      "execution_count": null,
      "metadata": {
        "id": "jcBYF3YHTZfB"
      },
      "outputs": [],
      "source": [
        "# we split the data into our inputs and the label\n",
        "test_df = test_df.drop(['index'], axis=1)\n",
        "X_test = test_df.drop(['Survived'], axis=1)\n",
        "y_test = test_df['Survived']\n",
        "\n"
      ]
    },
    {
      "cell_type": "code",
      "execution_count": null,
      "metadata": {
        "id": "cR5KHJ7HTZfB",
        "outputId": "7b5b7249-7323-42ff-c0e6-ae576065f77f"
      },
      "outputs": [
        {
          "data": {
            "text/html": [
              "<div>\n",
              "<style scoped>\n",
              "    .dataframe tbody tr th:only-of-type {\n",
              "        vertical-align: middle;\n",
              "    }\n",
              "\n",
              "    .dataframe tbody tr th {\n",
              "        vertical-align: top;\n",
              "    }\n",
              "\n",
              "    .dataframe thead th {\n",
              "        text-align: right;\n",
              "    }\n",
              "</style>\n",
              "<table border=\"1\" class=\"dataframe\">\n",
              "  <thead>\n",
              "    <tr style=\"text-align: right;\">\n",
              "      <th></th>\n",
              "      <th>Pclass</th>\n",
              "      <th>Age</th>\n",
              "      <th>SibSp</th>\n",
              "      <th>Parch</th>\n",
              "      <th>Fare</th>\n",
              "    </tr>\n",
              "  </thead>\n",
              "  <tbody>\n",
              "    <tr>\n",
              "      <th>0</th>\n",
              "      <td>3</td>\n",
              "      <td>25.0</td>\n",
              "      <td>1</td>\n",
              "      <td>1</td>\n",
              "      <td>15.2458</td>\n",
              "    </tr>\n",
              "    <tr>\n",
              "      <th>1</th>\n",
              "      <td>2</td>\n",
              "      <td>31.0</td>\n",
              "      <td>0</td>\n",
              "      <td>0</td>\n",
              "      <td>10.5000</td>\n",
              "    </tr>\n",
              "    <tr>\n",
              "      <th>2</th>\n",
              "      <td>3</td>\n",
              "      <td>20.0</td>\n",
              "      <td>0</td>\n",
              "      <td>0</td>\n",
              "      <td>7.9250</td>\n",
              "    </tr>\n",
              "    <tr>\n",
              "      <th>3</th>\n",
              "      <td>2</td>\n",
              "      <td>6.0</td>\n",
              "      <td>0</td>\n",
              "      <td>1</td>\n",
              "      <td>33.0000</td>\n",
              "    </tr>\n",
              "    <tr>\n",
              "      <th>4</th>\n",
              "      <td>3</td>\n",
              "      <td>14.0</td>\n",
              "      <td>1</td>\n",
              "      <td>0</td>\n",
              "      <td>11.2417</td>\n",
              "    </tr>\n",
              "  </tbody>\n",
              "</table>\n",
              "</div>"
            ],
            "text/plain": [
              "   Pclass   Age  SibSp  Parch     Fare\n",
              "0       3  25.0      1      1  15.2458\n",
              "1       2  31.0      0      0  10.5000\n",
              "2       3  20.0      0      0   7.9250\n",
              "3       2   6.0      0      1  33.0000\n",
              "4       3  14.0      1      0  11.2417"
            ]
          },
          "execution_count": 7,
          "metadata": {},
          "output_type": "execute_result"
        }
      ],
      "source": [
        "from sklearn.model_selection import train_test_split\n",
        "\n",
        "# we want to extract a testing set without sex information as well\n",
        "X_test_unaware = X_test.drop(['Sex_female', 'Sex_male'], axis=1)\n",
        "X_test_unaware.head()\n"
      ]
    },
    {
      "cell_type": "code",
      "execution_count": null,
      "metadata": {
        "id": "KZ4_iXE3TZfB"
      },
      "outputs": [],
      "source": [
        "import pickle\n",
        "# import the regular model\n",
        "model = pickle.load(open('titanic_data/model.pkl','rb'))\n",
        "\n",
        "# import the sex unaware model\n",
        "model_unaware = pickle.load(open('titanic_data/model_unaware.pkl','rb'))"
      ]
    },
    {
      "cell_type": "code",
      "execution_count": null,
      "metadata": {
        "id": "mZKP1sezTZfB"
      },
      "outputs": [],
      "source": [
        "# let's use the models on our test data to get predicted labels\n",
        "y_pred = model.predict(X_test)\n",
        "y_pred_unaware = model_unaware.predict(X_test_unaware)"
      ]
    },
    {
      "cell_type": "code",
      "execution_count": null,
      "metadata": {
        "id": "7C5aVj9zTZfB",
        "outputId": "add5e8f8-9294-41d2-9a68-a7400dace618"
      },
      "outputs": [
        {
          "name": "stdout",
          "output_type": "stream",
          "text": [
            "Accuracy Score for model trained with Sex as a feature 0.8044692737430168\n",
            "Accuracy Score for model trained without Sex as a feature 0.7430167597765364\n"
          ]
        }
      ],
      "source": [
        "from sklearn.metrics import accuracy_score\n",
        "\n",
        "# now we can compute the accuracy of those predictions\n",
        "print('Accuracy Score for model trained with Sex as a feature', accuracy_score(y_pred, y_test))\n",
        "print('Accuracy Score for model trained without Sex as a feature', accuracy_score(y_pred_unaware, y_test))"
      ]
    },
    {
      "cell_type": "markdown",
      "metadata": {
        "id": "BUqUwQFJTZfB"
      },
      "source": [
        "## Activity 3: Fairness Metrics Evaluation\n",
        "Let's analyze the fairness of these model using the fairness metrics discussed in class."
      ]
    },
    {
      "cell_type": "code",
      "execution_count": null,
      "metadata": {
        "id": "7Urd_pDlTZfB"
      },
      "outputs": [],
      "source": [
        "# Merge data and predicted labels\n",
        "merged_labels_and_predictions = pd.concat([X_test, pd.DataFrame(y_test, columns=['Survived']), pd.DataFrame(y_pred, columns=['Predicted Survival']), pd.DataFrame(y_pred_unaware, columns=['Predicted Survival Unaware'])], axis=1)"
      ]
    },
    {
      "cell_type": "markdown",
      "metadata": {
        "id": "DENOdyHlTZfB"
      },
      "source": [
        "### Group Unaware\n",
        "\n",
        "The first model (model) is not group unaware with respect to sex since sex is used as an input feature that the model is trained on.\n",
        "\n",
        "The second model (model_unaware) is group unaware with respect to sex since the dataset it trains on does not include information about sex."
      ]
    },
    {
      "cell_type": "markdown",
      "metadata": {
        "id": "EzOW_vjqTZfB"
      },
      "source": [
        "### Demographic Parity"
      ]
    },
    {
      "cell_type": "code",
      "execution_count": null,
      "metadata": {
        "id": "LN_5_QVKTZfB"
      },
      "outputs": [],
      "source": [
        "## Calculate Demographic Parity by Gender for the first model\n",
        "## Calculate positive rates by gender\n",
        "\n",
        "# Positive Rates by Gender"
      ]
    },
    {
      "cell_type": "code",
      "execution_count": null,
      "metadata": {
        "id": "FQC1ngMsTZfB"
      },
      "outputs": [],
      "source": [
        "## Calculate Demographic Parity by Passenger class for the first model\n",
        "## Calculate positive rates by passenger class\n",
        "\n",
        "# Positive Rates by Pclass\n"
      ]
    },
    {
      "cell_type": "code",
      "execution_count": null,
      "metadata": {
        "id": "rRgYD7HkTZfB"
      },
      "outputs": [],
      "source": [
        "## Calculate Demographic Parity by Gender for the sex unaware model\n",
        "## Calculate positive rates by gender\n",
        "\n",
        "# Positive Rates by Gender\n"
      ]
    },
    {
      "cell_type": "code",
      "execution_count": null,
      "metadata": {
        "id": "uo5yml1nTZfB"
      },
      "outputs": [],
      "source": [
        "## Calculate Demographic Parity by Passenger class for the sex unaware model\n",
        "## Calculate positive rates by passenger class\n",
        "\n",
        "# Positive Rates by Pclass"
      ]
    },
    {
      "cell_type": "markdown",
      "metadata": {
        "id": "pX4Ftyd5TZfC"
      },
      "source": [
        "### Equal Opportunity and Other Metrics\n",
        "Fill in the code for computing equal opportunity below. Feel free to explore any other fairness metrics that seem interesting to you! One thing to compute is true and false positive and true and false negative rates for each of the models to determine if there's anything unexpected here."
      ]
    },
    {
      "cell_type": "code",
      "execution_count": null,
      "metadata": {
        "id": "B5ghiuOGTZfC"
      },
      "outputs": [],
      "source": [
        "## Calculate Equal Opportunity\n",
        "## Calculate true positive rates by gender\n",
        "## Calculate true positive rates by passenger class\n"
      ]
    },
    {
      "cell_type": "code",
      "execution_count": null,
      "metadata": {
        "id": "1cNFXWF_TZfC"
      },
      "outputs": [],
      "source": [
        "# YOUR CODE HERE"
      ]
    },
    {
      "cell_type": "markdown",
      "metadata": {
        "id": "V8eJbgh8TZfC"
      },
      "source": [
        "## Activity 4: Recommendation\n",
        "Based on the analysis and evaluations we've done above (both fairness and accuracy), would you recommend that one of these models is used in practice by the cruise line company?\n",
        "\n",
        "\n",
        "Justify your choice with evidence that you produced in previous activities."
      ]
    }
  ],
  "metadata": {
    "kernelspec": {
      "display_name": "Python 3",
      "language": "python",
      "name": "python3"
    },
    "language_info": {
      "codemirror_mode": {
        "name": "ipython",
        "version": 3
      },
      "file_extension": ".py",
      "mimetype": "text/x-python",
      "name": "python",
      "nbconvert_exporter": "python",
      "pygments_lexer": "ipython3",
      "version": "3.8.5"
    },
    "orig_nbformat": 4,
    "colab": {
      "provenance": []
    }
  },
  "nbformat": 4,
  "nbformat_minor": 0
}